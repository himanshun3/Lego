{
 "cells": [
  {
   "cell_type": "markdown",
   "metadata": {
    "dc": {
     "key": "1d0b086e6c"
    },
    "deletable": false,
    "editable": false,
    "run_control": {
     "frozen": true
    },
    "tags": [
     "context"
    ]
   },
   "source": [
    "## Introduction\n",
    "<p>Everyone loves Lego (unless you ever stepped on one). Did you know by the way that \"Lego\" was derived from the Danish phrase leg godt, which means \"play well\"? Unless you speak Danish, probably not. </p>\n",
    "<p>In this project, we will analyze a fascinating dataset on every single lego block that has ever been built!</p>\n",
    "<p><img src=\"https://s3.amazonaws.com/assets.datacamp.com/projects/lego/lego-bricks.jpeg\" alt=\"lego\"></p>"
   ]
  },
  {
   "cell_type": "code",
   "execution_count": 222,
   "metadata": {
    "collapsed": true,
    "dc": {
     "key": "1d0b086e6c"
    },
    "tags": [
     "sample_code"
    ]
   },
   "outputs": [],
   "source": [
    "# Nothing to do here"
   ]
  },
  {
   "cell_type": "code",
   "execution_count": 223,
   "metadata": {
    "dc": {
     "key": "1d0b086e6c"
    },
    "hide": true,
    "tags": [
     "tests"
    ]
   },
   "outputs": [
    {
     "data": {
      "application/json": "{\"summary\": {\"failures\": 0, \"errors\": 0, \"tests\": 1}, \"tests\": [{\"message\": \"\", \"name\": \"test_default\", \"success\": true}], \"success\": true}"
     },
     "metadata": {},
     "output_type": "display_data"
    },
    {
     "data": {
      "text/plain": [
       "1/1 tests passed\n"
      ]
     },
     "execution_count": 223,
     "metadata": {},
     "output_type": "execute_result"
    }
   ],
   "source": [
    "%%nose\n",
    "def test_default():\n",
    "  assert True"
   ]
  },
  {
   "cell_type": "markdown",
   "metadata": {
    "dc": {
     "key": "044b2cef41"
    },
    "deletable": false,
    "editable": false,
    "run_control": {
     "frozen": true
    },
    "tags": [
     "context"
    ]
   },
   "source": [
    "## Reading Data\n",
    "<p>This comprehensive database of lego blocks is provided by <a href=\"https://rebrickable.com/downloads/\">Rebrickable</a>. The data is available as csv files and the schema is shown below.</p>\n",
    "<p><img src=\"https://s3.amazonaws.com/assets.datacamp.com/projects/lego/downloads_schema.png\" alt=\"schema\"></p>\n",
    "<p>Let us start by reading in the colors data to get a sense of the diversity of lego sets!</p>"
   ]
  },
  {
   "cell_type": "code",
   "execution_count": 224,
   "metadata": {
    "dc": {
     "key": "044b2cef41"
    },
    "tags": [
     "sample_code"
    ]
   },
   "outputs": [
    {
     "data": {
      "text/html": [
       "<div>\n",
       "<table border=\"1\" class=\"dataframe\">\n",
       "  <thead>\n",
       "    <tr style=\"text-align: right;\">\n",
       "      <th></th>\n",
       "      <th>id</th>\n",
       "      <th>name</th>\n",
       "      <th>rgb</th>\n",
       "      <th>is_trans</th>\n",
       "    </tr>\n",
       "  </thead>\n",
       "  <tbody>\n",
       "    <tr>\n",
       "      <th>0</th>\n",
       "      <td>-1</td>\n",
       "      <td>Unknown</td>\n",
       "      <td>0033B2</td>\n",
       "      <td>f</td>\n",
       "    </tr>\n",
       "    <tr>\n",
       "      <th>1</th>\n",
       "      <td>0</td>\n",
       "      <td>Black</td>\n",
       "      <td>05131D</td>\n",
       "      <td>f</td>\n",
       "    </tr>\n",
       "    <tr>\n",
       "      <th>2</th>\n",
       "      <td>1</td>\n",
       "      <td>Blue</td>\n",
       "      <td>0055BF</td>\n",
       "      <td>f</td>\n",
       "    </tr>\n",
       "    <tr>\n",
       "      <th>3</th>\n",
       "      <td>2</td>\n",
       "      <td>Green</td>\n",
       "      <td>237841</td>\n",
       "      <td>f</td>\n",
       "    </tr>\n",
       "    <tr>\n",
       "      <th>4</th>\n",
       "      <td>3</td>\n",
       "      <td>Dark Turquoise</td>\n",
       "      <td>008F9B</td>\n",
       "      <td>f</td>\n",
       "    </tr>\n",
       "  </tbody>\n",
       "</table>\n",
       "</div>"
      ],
      "text/plain": [
       "   id            name     rgb is_trans\n",
       "0  -1         Unknown  0033B2        f\n",
       "1   0           Black  05131D        f\n",
       "2   1            Blue  0055BF        f\n",
       "3   2           Green  237841        f\n",
       "4   3  Dark Turquoise  008F9B        f"
      ]
     },
     "execution_count": 224,
     "metadata": {},
     "output_type": "execute_result"
    }
   ],
   "source": [
    "# Import modules\n",
    "import pandas as pd\n",
    "\n",
    "# Read colors data\n",
    "colors = pd.read_csv('datasets/colors.csv')\n",
    "\n",
    "# Print the first few rows\n",
    "colors.head()"
   ]
  },
  {
   "cell_type": "code",
   "execution_count": 225,
   "metadata": {
    "dc": {
     "key": "044b2cef41"
    },
    "hide": true,
    "tags": [
     "tests"
    ]
   },
   "outputs": [
    {
     "data": {
      "application/json": "{\"summary\": {\"failures\": 0, \"errors\": 0, \"tests\": 1}, \"tests\": [{\"message\": \"\", \"name\": \"test_colors_exists\", \"success\": true}], \"success\": true}"
     },
     "metadata": {},
     "output_type": "display_data"
    },
    {
     "data": {
      "text/plain": [
       "1/1 tests passed\n"
      ]
     },
     "execution_count": 225,
     "metadata": {},
     "output_type": "execute_result"
    }
   ],
   "source": [
    "%%nose\n",
    "def test_colors_exists():\n",
    "    assert 'colors' in globals(), \"You should read the data into a variable named `colors`\""
   ]
  },
  {
   "cell_type": "markdown",
   "metadata": {
    "dc": {
     "key": "15c1e2ce38"
    },
    "deletable": false,
    "editable": false,
    "run_control": {
     "frozen": true
    },
    "tags": [
     "context"
    ]
   },
   "source": [
    "## Exploring Colors\n",
    "<p>Now that we have read the <code>colors</code> data, we can start exploring it! Let us start by understanding the number of colors available.</p>"
   ]
  },
  {
   "cell_type": "code",
   "execution_count": 226,
   "metadata": {
    "dc": {
     "key": "15c1e2ce38"
    },
    "tags": [
     "sample_code"
    ]
   },
   "outputs": [
    {
     "data": {
      "text/plain": [
       "135"
      ]
     },
     "execution_count": 226,
     "metadata": {},
     "output_type": "execute_result"
    }
   ],
   "source": [
    "# How many distinct colors are available?\n",
    "# -- YOUR CODE FOR TASK 3 --\n",
    "num_colors=colors['name'].nunique()\n",
    "num_colors"
   ]
  },
  {
   "cell_type": "code",
   "execution_count": 227,
   "metadata": {
    "dc": {
     "key": "15c1e2ce38"
    },
    "hide": true,
    "tags": [
     "tests"
    ]
   },
   "outputs": [
    {
     "data": {
      "application/json": "{\"summary\": {\"failures\": 0, \"errors\": 0, \"tests\": 1}, \"tests\": [{\"message\": \"\", \"name\": \"test_num_colors\", \"success\": true}], \"success\": true}"
     },
     "metadata": {},
     "output_type": "display_data"
    },
    {
     "data": {
      "text/plain": [
       "1/1 tests passed\n"
      ]
     },
     "execution_count": 227,
     "metadata": {},
     "output_type": "execute_result"
    }
   ],
   "source": [
    "%%nose\n",
    "def test_num_colors():\n",
    "    assert num_colors == 135, \"The variable num_colors should equal 135\""
   ]
  },
  {
   "cell_type": "markdown",
   "metadata": {
    "dc": {
     "key": "a5723ae5c2"
    },
    "deletable": false,
    "editable": false,
    "run_control": {
     "frozen": true
    },
    "tags": [
     "context"
    ]
   },
   "source": [
    "## Transparent Colors in Lego Sets\n",
    "<p>The <code>colors</code> data has a column named <code>is_trans</code> that indicates whether a color is transparent or not. It would be interesting to explore the distribution of transparent vs. non-transparent colors.</p>"
   ]
  },
  {
   "cell_type": "code",
   "execution_count": 228,
   "metadata": {
    "dc": {
     "key": "a5723ae5c2"
    },
    "tags": [
     "sample_code"
    ]
   },
   "outputs": [
    {
     "data": {
      "text/html": [
       "<div>\n",
       "<table border=\"1\" class=\"dataframe\">\n",
       "  <thead>\n",
       "    <tr style=\"text-align: right;\">\n",
       "      <th></th>\n",
       "      <th>id</th>\n",
       "      <th>name</th>\n",
       "      <th>rgb</th>\n",
       "    </tr>\n",
       "    <tr>\n",
       "      <th>is_trans</th>\n",
       "      <th></th>\n",
       "      <th></th>\n",
       "      <th></th>\n",
       "    </tr>\n",
       "  </thead>\n",
       "  <tbody>\n",
       "    <tr>\n",
       "      <th>f</th>\n",
       "      <td>107</td>\n",
       "      <td>107</td>\n",
       "      <td>107</td>\n",
       "    </tr>\n",
       "    <tr>\n",
       "      <th>t</th>\n",
       "      <td>28</td>\n",
       "      <td>28</td>\n",
       "      <td>28</td>\n",
       "    </tr>\n",
       "  </tbody>\n",
       "</table>\n",
       "</div>"
      ],
      "text/plain": [
       "           id  name  rgb\n",
       "is_trans                \n",
       "f         107   107  107\n",
       "t          28    28   28"
      ]
     },
     "execution_count": 228,
     "metadata": {},
     "output_type": "execute_result"
    }
   ],
   "source": [
    "# colors_summary: Distribution of colors based on transparency\n",
    "# -- YOUR CODE FOR TASK 4 --\n",
    "colors_summary=colors.groupby(['is_trans'])[['id','name','rgb']].count()\n",
    "colors_summary"
   ]
  },
  {
   "cell_type": "code",
   "execution_count": 229,
   "metadata": {
    "dc": {
     "key": "a5723ae5c2"
    },
    "hide": true,
    "tags": [
     "tests"
    ]
   },
   "outputs": [
    {
     "data": {
      "application/json": "{\"summary\": {\"failures\": 0, \"errors\": 0, \"tests\": 2}, \"tests\": [{\"message\": \"\", \"name\": \"test_colors_summary_exists\", \"success\": true}, {\"message\": \"\", \"name\": \"test_colors_summary\", \"success\": true}], \"success\": true}"
     },
     "metadata": {},
     "output_type": "display_data"
    },
    {
     "data": {
      "text/plain": [
       "2/2 tests passed\n"
      ]
     },
     "execution_count": 229,
     "metadata": {},
     "output_type": "execute_result"
    }
   ],
   "source": [
    "%%nose\n",
    "def test_colors_summary_exists():\n",
    "    assert 'colors_summary' in globals(), \"You should have defined a variable named `colors_summary`\"\n",
    "def test_colors_summary():\n",
    "    assert colors_summary.shape == (2, 3), \"The DataFrame colors_summary should contain 2 rows and 3 columns\""
   ]
  },
  {
   "cell_type": "markdown",
   "metadata": {
    "dc": {
     "key": "c9d0e58653"
    },
    "deletable": false,
    "editable": false,
    "run_control": {
     "frozen": true
    },
    "tags": [
     "context"
    ]
   },
   "source": [
    "## Explore Lego Sets\n",
    "<p>Another interesting dataset available in this database is the <code>sets</code> data. It contains a comprehensive list of sets over the years and the number of parts that each of these sets contained. </p>\n",
    "<p><img src=\"https://imgur.com/1k4PoXs.png\" alt=\"sets_data\"></p>\n",
    "<p>Let us use this data to explore how the average number of parts in lego sets has varied over the years.</p>"
   ]
  },
  {
   "cell_type": "code",
   "execution_count": 230,
   "metadata": {
    "dc": {
     "key": "c9d0e58653"
    },
    "scrolled": true,
    "tags": [
     "sample_code"
    ]
   },
   "outputs": [
    {
     "data": {
      "text/plain": [
       "<matplotlib.axes._subplots.AxesSubplot at 0x7f0bfe6979b0>"
      ]
     },
     "execution_count": 230,
     "metadata": {},
     "output_type": "execute_result"
    },
    {
     "data": {
      "image/png": "[encoded data removed]",
      "text/plain": [
       "<matplotlib.figure.Figure at 0x7f0bfe696a90>"
      ]
     },
     "metadata": {},
     "output_type": "display_data"
    }
   ],
   "source": [
    "%matplotlib inline\n",
    "# Read sets data as `sets`\n",
    "sets=pd.read_csv('datasets/sets.csv')\n",
    "\n",
    "# Create a summary of average number of parts by year: `parts_by_year`\n",
    "parts_by_year=sets.groupby('year')['num_parts'].count()\n",
    "\n",
    "# Plot trends in average number of parts by year\n",
    "parts_by_year.plot()\n"
   ]
  },
  {
   "cell_type": "code",
   "execution_count": 231,
   "metadata": {
    "dc": {
     "key": "c9d0e58653"
    },
    "hide": true,
    "tags": [
     "tests"
    ]
   },
   "outputs": [
    {
     "data": {
      "application/json": "{\"summary\": {\"failures\": 0, \"errors\": 0, \"tests\": 2}, \"tests\": [{\"message\": \"\", \"name\": \"test_sets_exists\", \"success\": true}, {\"message\": \"\", \"name\": \"test_parts_by_year_exists\", \"success\": true}], \"success\": true}"
     },
     "metadata": {},
     "output_type": "display_data"
    },
    {
     "data": {
      "text/plain": [
       "2/2 tests passed\n"
      ]
     },
     "execution_count": 231,
     "metadata": {},
     "output_type": "execute_result"
    }
   ],
   "source": [
    "%%nose\n",
    "def test_sets_exists():\n",
    "    assert 'sets' in globals(), \"You should read the data into a variable named `sets`\"\n",
    "def test_parts_by_year_exists():\n",
    "    assert 'parts_by_year' in globals(), \"You should have defined a variable named `parts_by_year`\""
   ]
  },
  {
   "cell_type": "markdown",
   "metadata": {
    "dc": {
     "key": "266a3f390c"
    },
    "deletable": false,
    "editable": false,
    "run_control": {
     "frozen": true
    },
    "tags": [
     "context"
    ]
   },
   "source": [
    "## Lego Themes Over Years\n",
    "<p>Lego blocks ship under multiple <a href=\"https://shop.lego.com/en-US/Themes\">themes</a>. Let us try to get a sense of how the number of themes shipped has varied over the years.</p>"
   ]
  },
  {
   "cell_type": "code",
   "execution_count": 232,
   "metadata": {
    "dc": {
     "key": "266a3f390c"
    },
    "tags": [
     "sample_code"
    ]
   },
   "outputs": [
    {
     "data": {
      "text/plain": [
       "(66, 2)"
      ]
     },
     "execution_count": 232,
     "metadata": {},
     "output_type": "execute_result"
    }
   ],
   "source": [
    "# themes_by_year: Number of themes shipped by year\n",
    "# -- YOUR CODE HERE --\n",
    "themes_by_year=sets.groupby('year')['theme_id'].nunique()\n",
    "themes_by_year=pd.DataFrame(themes_by_year,columns=['year','theme_id'])\n",
    "themes_by_year.shape\n"
   ]
  },
  {
   "cell_type": "code",
   "execution_count": 233,
   "metadata": {
    "dc": {
     "key": "266a3f390c"
    },
    "hide": true,
    "tags": [
     "tests"
    ]
   },
   "outputs": [
    {
     "data": {
      "application/json": "{\"summary\": {\"failures\": 0, \"errors\": 0, \"tests\": 3}, \"tests\": [{\"message\": \"\", \"name\": \"test_themes_by_year_exists\", \"success\": true}, {\"message\": \"\", \"name\": \"test_themes_by_year\", \"success\": true}, {\"message\": \"\", \"name\": \"test_themes_by_year_names\", \"success\": true}], \"success\": true}"
     },
     "metadata": {},
     "output_type": "display_data"
    },
    {
     "data": {
      "text/plain": [
       "3/3 tests passed\n"
      ]
     },
     "execution_count": 233,
     "metadata": {},
     "output_type": "execute_result"
    }
   ],
   "source": [
    "%%nose\n",
    "def test_themes_by_year_exists():\n",
    "    assert 'themes_by_year' in globals(), \"You should have defined a variable named `themes_by_year`\"\n",
    "def test_themes_by_year():\n",
    "    assert themes_by_year.shape == (66, 2), \"The DataFrame themes_by_year should contain 66 rows and 2 columns\"\n",
    "def test_themes_by_year_names():\n",
    "    colnames = ['year', 'theme_id']\n",
    "    assert all(name in themes_by_year for name in colnames), \"Your DataFrame, bnames, should have columns named: year, theme_id\""
   ]
  },
  {
   "cell_type": "markdown",
   "metadata": {
    "dc": {
     "key": "a293e5076e"
    },
    "deletable": false,
    "editable": false,
    "run_control": {
     "frozen": true
    },
    "tags": [
     "context"
    ]
   },
   "source": [
    "## Wrapping It All Up!\n",
    "<p>Lego blocks offer an unlimited amoung of fun across ages. We explored some interesting trends around colors, parts and themes. </p>"
   ]
  },
  {
   "cell_type": "code",
   "execution_count": 234,
   "metadata": {
    "collapsed": true,
    "dc": {
     "key": "a293e5076e"
    },
    "tags": [
     "sample_code"
    ]
   },
   "outputs": [],
   "source": [
    "# Nothing to do here"
   ]
  },
  {
   "cell_type": "code",
   "execution_count": 235,
   "metadata": {
    "dc": {
     "key": "a293e5076e"
    },
    "hide": true,
    "tags": [
     "tests"
    ]
   },
   "outputs": [
    {
     "data": {
      "application/json": "{\"summary\": {\"failures\": 0, \"errors\": 0, \"tests\": 1}, \"tests\": [{\"message\": \"\", \"name\": \"test_default\", \"success\": true}], \"success\": true}"
     },
     "metadata": {},
     "output_type": "display_data"
    },
    {
     "data": {
      "text/plain": [
       "1/1 tests passed\n"
      ]
     },
     "execution_count": 235,
     "metadata": {},
     "output_type": "execute_result"
    }
   ],
   "source": [
    "%%nose\n",
    "def test_default():\n",
    "  assert True"
   ]
  }
 ],
 "metadata": {
  "kernelspec": {
   "display_name": "Python 3",
   "language": "python",
   "name": "python3"
  },
  "language_info": {
   "codemirror_mode": {
    "name": "ipython",
    "version": 3
   },
   "file_extension": ".py",
   "mimetype": "text/x-python",
   "name": "python",
   "nbconvert_exporter": "python",
   "pygments_lexer": "ipython3",
   "version": "3.6.2"
  }
 },
 "nbformat": 4,
 "nbformat_minor": 2
}
